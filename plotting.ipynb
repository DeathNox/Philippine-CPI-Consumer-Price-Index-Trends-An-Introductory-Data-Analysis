{
 "cells": [
  {
   "cell_type": "code",
   "execution_count": 2,
   "id": "023401fc",
   "metadata": {},
   "outputs": [],
   "source": [
    "import pandas as pd\n",
    "import seaborn as sns\n",
    "import matplotlib.pyplot as plt\n",
    "import matplotlib.dates as mdates\n",
    "import plotly.express as px\n",
    "import seaborn as sns\n",
    "\n",
    "%config InlineBackend.figure_format = 'retina'\n",
    "\n",
    "import warnings\n",
    "warnings.filterwarnings(action='ignore', category=FutureWarning) "
   ]
  },
  {
   "cell_type": "code",
   "execution_count": 29,
   "id": "57e27837",
   "metadata": {},
   "outputs": [
    {
     "data": {
      "application/vnd.microsoft.datawrangler.viewer.v0+json": {
       "columns": [
        {
         "name": "index",
         "rawType": "int64",
         "type": "integer"
        },
        {
         "name": "Month",
         "rawType": "object",
         "type": "string"
        },
        {
         "name": "Year",
         "rawType": "object",
         "type": "string"
        },
        {
         "name": "Food and Non-Alcoholic Beverages",
         "rawType": "float64",
         "type": "float"
        },
        {
         "name": "Alcoholic Beverages and Tobacco",
         "rawType": "float64",
         "type": "float"
        },
        {
         "name": "Clothing and Footwear",
         "rawType": "float64",
         "type": "float"
        },
        {
         "name": "Housing, Water, Electricity, Gas and Other Fuels",
         "rawType": "float64",
         "type": "float"
        },
        {
         "name": "Furnishings, Household Equipment and Routine Household Maintenance",
         "rawType": "float64",
         "type": "float"
        },
        {
         "name": "Health",
         "rawType": "float64",
         "type": "float"
        },
        {
         "name": "Transport",
         "rawType": "float64",
         "type": "float"
        },
        {
         "name": "Information and Communication",
         "rawType": "float64",
         "type": "float"
        },
        {
         "name": "Recreation, Sport and Culture",
         "rawType": "float64",
         "type": "float"
        },
        {
         "name": "Education Services",
         "rawType": "float64",
         "type": "float"
        },
        {
         "name": "Restaurants and Accommodation Services",
         "rawType": "float64",
         "type": "float"
        },
        {
         "name": "Financial Services",
         "rawType": "float64",
         "type": "float"
        },
        {
         "name": "Personal Care, and Miscellaneous Goods and Services",
         "rawType": "float64",
         "type": "float"
        }
       ],
       "ref": "e97f0480-92c2-4df8-a28d-6729d8d8d09e",
       "rows": [
        [
         "0",
         "Jan",
         "2024",
         "128.9",
         "174.7",
         "117.0",
         "118.8",
         "120.2",
         "121.5",
         "128.9",
         "103.1",
         "114.5",
         "115.4",
         "125.6",
         "142.4",
         "118.4"
        ],
        [
         "1",
         "Feb",
         "2024",
         "129.3",
         "175.9",
         "117.4",
         "119.8",
         "120.7",
         "122.0",
         "130.6",
         "103.1",
         "114.9",
         "115.4",
         "126.5",
         "142.4",
         "119.0"
        ],
        [
         "2",
         "Mar",
         "2024",
         "128.9",
         "176.3",
         "117.9",
         "119.8",
         "121.1",
         "122.4",
         "130.9",
         "103.1",
         "115.2",
         "115.4",
         "127.5",
         "142.4",
         "119.3"
        ],
        [
         "3",
         "Apr",
         "2024",
         "128.7",
         "176.5",
         "118.2",
         "119.2",
         "121.2",
         "122.5",
         "131.7",
         "103.2",
         "115.4",
         "115.4",
         "127.8",
         "142.4",
         "119.6"
        ],
        [
         "4",
         "May",
         "2024",
         "128.7",
         "176.8",
         "118.4",
         "119.8",
         "121.5",
         "122.7",
         "131.1",
         "103.2",
         "115.5",
         "115.4",
         "128.2",
         "142.4",
         "119.8"
        ],
        [
         "5",
         "Jun",
         "2024",
         "129.5",
         "177.0",
         "118.5",
         "118.4",
         "121.6",
         "122.9",
         "130.7",
         "103.2",
         "115.7",
         "115.4",
         "128.4",
         "142.4",
         "120.0"
        ],
        [
         "6",
         "Jul",
         "2024",
         "130.4",
         "177.0",
         "118.7",
         "120.0",
         "121.8",
         "123.1",
         "131.5",
         "103.2",
         "115.9",
         "118.1",
         "128.6",
         "142.4",
         "120.3"
        ],
        [
         "7",
         "Aug",
         "2024",
         "130.4",
         "177.2",
         "119.0",
         "120.9",
         "121.9",
         "123.2",
         "129.6",
         "103.2",
         "116.5",
         "120.1",
         "128.7",
         "142.4",
         "120.5"
        ],
        [
         "8",
         "Sep",
         "2024",
         "129.8",
         "177.5",
         "119.1",
         "121.2",
         "122.1",
         "123.5",
         "127.9",
         "103.2",
         "116.7",
         "120.1",
         "128.7",
         "142.4",
         "120.7"
        ],
        [
         "9",
         "Oct",
         "2024",
         "130.4",
         "177.8",
         "119.2",
         "120.9",
         "122.2",
         "123.7",
         "128.0",
         "103.2",
         "116.9",
         "120.1",
         "128.8",
         "142.4",
         "120.9"
        ],
        [
         "10",
         "Nov",
         "2024",
         "131.3",
         "178.7",
         "119.3",
         "120.7",
         "122.8",
         "124.0",
         "128.5",
         "103.2",
         "116.9",
         "120.1",
         "129.0",
         "142.4",
         "121.2"
        ],
        [
         "11",
         "Dec",
         "2024",
         "132.3",
         "179.5",
         "119.4",
         "121.2",
         "123.0",
         "124.2",
         "130.0",
         "103.2",
         "117.0",
         "120.1",
         "129.4",
         "142.4",
         "121.5"
        ],
        [
         "13",
         "Jan",
         "2025",
         "133.8",
         "180.9",
         "119.7",
         "121.4",
         "123.3",
         "124.5",
         "130.3",
         "103.3",
         "117.3",
         "120.3",
         "129.6",
         "142.4",
         "121.7"
        ],
        [
         "14",
         "Feb",
         "2025",
         "132.6",
         "181.9",
         "119.9",
         "121.7",
         "123.5",
         "124.8",
         "130.4",
         "103.4",
         "117.7",
         "120.3",
         "130.1",
         "142.4",
         "122.1"
        ],
        [
         "15",
         "Mar",
         "2025",
         "131.8",
         "182.6",
         "120.0",
         "121.8",
         "123.7",
         "125.1",
         "129.5",
         "103.5",
         "117.7",
         "120.3",
         "130.4",
         "142.4",
         "122.4"
        ],
        [
         "16",
         "Apr",
         "2025",
         "129.9",
         "183.1",
         "120.1",
         "122.6",
         "123.8",
         "125.4",
         "128.9",
         "103.5",
         "117.8",
         "120.3",
         "130.7",
         "142.4",
         "122.6"
        ],
        [
         "17",
         "May",
         "2025",
         "129.8",
         "183.5",
         "120.3",
         "122.6",
         "123.9",
         "125.7",
         "127.9",
         "103.6",
         "118.0",
         "120.3",
         "130.8",
         "142.4",
         "122.8"
        ],
        [
         "18",
         "Jun",
         "2025",
         "130.0",
         "183.8",
         "120.5",
         "122.2",
         "124.2",
         "125.9",
         "128.6",
         "103.6",
         "118.3",
         "121.6",
         "131.1",
         "142.4",
         "122.9"
        ]
       ],
       "shape": {
        "columns": 15,
        "rows": 18
       }
      },
      "text/html": [
       "<div>\n",
       "<style scoped>\n",
       "    .dataframe tbody tr th:only-of-type {\n",
       "        vertical-align: middle;\n",
       "    }\n",
       "\n",
       "    .dataframe tbody tr th {\n",
       "        vertical-align: top;\n",
       "    }\n",
       "\n",
       "    .dataframe thead th {\n",
       "        text-align: right;\n",
       "    }\n",
       "</style>\n",
       "<table border=\"1\" class=\"dataframe\">\n",
       "  <thead>\n",
       "    <tr style=\"text-align: right;\">\n",
       "      <th></th>\n",
       "      <th>Month</th>\n",
       "      <th>Year</th>\n",
       "      <th>Food and Non-Alcoholic Beverages</th>\n",
       "      <th>Alcoholic Beverages and Tobacco</th>\n",
       "      <th>Clothing and Footwear</th>\n",
       "      <th>Housing, Water, Electricity, Gas and Other Fuels</th>\n",
       "      <th>Furnishings, Household Equipment and Routine Household Maintenance</th>\n",
       "      <th>Health</th>\n",
       "      <th>Transport</th>\n",
       "      <th>Information and Communication</th>\n",
       "      <th>Recreation, Sport and Culture</th>\n",
       "      <th>Education Services</th>\n",
       "      <th>Restaurants and Accommodation Services</th>\n",
       "      <th>Financial Services</th>\n",
       "      <th>Personal Care, and Miscellaneous Goods and Services</th>\n",
       "    </tr>\n",
       "  </thead>\n",
       "  <tbody>\n",
       "    <tr>\n",
       "      <th>0</th>\n",
       "      <td>Jan</td>\n",
       "      <td>2024</td>\n",
       "      <td>128.9</td>\n",
       "      <td>174.7</td>\n",
       "      <td>117.0</td>\n",
       "      <td>118.8</td>\n",
       "      <td>120.2</td>\n",
       "      <td>121.5</td>\n",
       "      <td>128.9</td>\n",
       "      <td>103.1</td>\n",
       "      <td>114.5</td>\n",
       "      <td>115.4</td>\n",
       "      <td>125.6</td>\n",
       "      <td>142.4</td>\n",
       "      <td>118.4</td>\n",
       "    </tr>\n",
       "    <tr>\n",
       "      <th>1</th>\n",
       "      <td>Feb</td>\n",
       "      <td>2024</td>\n",
       "      <td>129.3</td>\n",
       "      <td>175.9</td>\n",
       "      <td>117.4</td>\n",
       "      <td>119.8</td>\n",
       "      <td>120.7</td>\n",
       "      <td>122.0</td>\n",
       "      <td>130.6</td>\n",
       "      <td>103.1</td>\n",
       "      <td>114.9</td>\n",
       "      <td>115.4</td>\n",
       "      <td>126.5</td>\n",
       "      <td>142.4</td>\n",
       "      <td>119.0</td>\n",
       "    </tr>\n",
       "    <tr>\n",
       "      <th>2</th>\n",
       "      <td>Mar</td>\n",
       "      <td>2024</td>\n",
       "      <td>128.9</td>\n",
       "      <td>176.3</td>\n",
       "      <td>117.9</td>\n",
       "      <td>119.8</td>\n",
       "      <td>121.1</td>\n",
       "      <td>122.4</td>\n",
       "      <td>130.9</td>\n",
       "      <td>103.1</td>\n",
       "      <td>115.2</td>\n",
       "      <td>115.4</td>\n",
       "      <td>127.5</td>\n",
       "      <td>142.4</td>\n",
       "      <td>119.3</td>\n",
       "    </tr>\n",
       "    <tr>\n",
       "      <th>3</th>\n",
       "      <td>Apr</td>\n",
       "      <td>2024</td>\n",
       "      <td>128.7</td>\n",
       "      <td>176.5</td>\n",
       "      <td>118.2</td>\n",
       "      <td>119.2</td>\n",
       "      <td>121.2</td>\n",
       "      <td>122.5</td>\n",
       "      <td>131.7</td>\n",
       "      <td>103.2</td>\n",
       "      <td>115.4</td>\n",
       "      <td>115.4</td>\n",
       "      <td>127.8</td>\n",
       "      <td>142.4</td>\n",
       "      <td>119.6</td>\n",
       "    </tr>\n",
       "    <tr>\n",
       "      <th>4</th>\n",
       "      <td>May</td>\n",
       "      <td>2024</td>\n",
       "      <td>128.7</td>\n",
       "      <td>176.8</td>\n",
       "      <td>118.4</td>\n",
       "      <td>119.8</td>\n",
       "      <td>121.5</td>\n",
       "      <td>122.7</td>\n",
       "      <td>131.1</td>\n",
       "      <td>103.2</td>\n",
       "      <td>115.5</td>\n",
       "      <td>115.4</td>\n",
       "      <td>128.2</td>\n",
       "      <td>142.4</td>\n",
       "      <td>119.8</td>\n",
       "    </tr>\n",
       "    <tr>\n",
       "      <th>5</th>\n",
       "      <td>Jun</td>\n",
       "      <td>2024</td>\n",
       "      <td>129.5</td>\n",
       "      <td>177.0</td>\n",
       "      <td>118.5</td>\n",
       "      <td>118.4</td>\n",
       "      <td>121.6</td>\n",
       "      <td>122.9</td>\n",
       "      <td>130.7</td>\n",
       "      <td>103.2</td>\n",
       "      <td>115.7</td>\n",
       "      <td>115.4</td>\n",
       "      <td>128.4</td>\n",
       "      <td>142.4</td>\n",
       "      <td>120.0</td>\n",
       "    </tr>\n",
       "    <tr>\n",
       "      <th>6</th>\n",
       "      <td>Jul</td>\n",
       "      <td>2024</td>\n",
       "      <td>130.4</td>\n",
       "      <td>177.0</td>\n",
       "      <td>118.7</td>\n",
       "      <td>120.0</td>\n",
       "      <td>121.8</td>\n",
       "      <td>123.1</td>\n",
       "      <td>131.5</td>\n",
       "      <td>103.2</td>\n",
       "      <td>115.9</td>\n",
       "      <td>118.1</td>\n",
       "      <td>128.6</td>\n",
       "      <td>142.4</td>\n",
       "      <td>120.3</td>\n",
       "    </tr>\n",
       "    <tr>\n",
       "      <th>7</th>\n",
       "      <td>Aug</td>\n",
       "      <td>2024</td>\n",
       "      <td>130.4</td>\n",
       "      <td>177.2</td>\n",
       "      <td>119.0</td>\n",
       "      <td>120.9</td>\n",
       "      <td>121.9</td>\n",
       "      <td>123.2</td>\n",
       "      <td>129.6</td>\n",
       "      <td>103.2</td>\n",
       "      <td>116.5</td>\n",
       "      <td>120.1</td>\n",
       "      <td>128.7</td>\n",
       "      <td>142.4</td>\n",
       "      <td>120.5</td>\n",
       "    </tr>\n",
       "    <tr>\n",
       "      <th>8</th>\n",
       "      <td>Sep</td>\n",
       "      <td>2024</td>\n",
       "      <td>129.8</td>\n",
       "      <td>177.5</td>\n",
       "      <td>119.1</td>\n",
       "      <td>121.2</td>\n",
       "      <td>122.1</td>\n",
       "      <td>123.5</td>\n",
       "      <td>127.9</td>\n",
       "      <td>103.2</td>\n",
       "      <td>116.7</td>\n",
       "      <td>120.1</td>\n",
       "      <td>128.7</td>\n",
       "      <td>142.4</td>\n",
       "      <td>120.7</td>\n",
       "    </tr>\n",
       "    <tr>\n",
       "      <th>9</th>\n",
       "      <td>Oct</td>\n",
       "      <td>2024</td>\n",
       "      <td>130.4</td>\n",
       "      <td>177.8</td>\n",
       "      <td>119.2</td>\n",
       "      <td>120.9</td>\n",
       "      <td>122.2</td>\n",
       "      <td>123.7</td>\n",
       "      <td>128.0</td>\n",
       "      <td>103.2</td>\n",
       "      <td>116.9</td>\n",
       "      <td>120.1</td>\n",
       "      <td>128.8</td>\n",
       "      <td>142.4</td>\n",
       "      <td>120.9</td>\n",
       "    </tr>\n",
       "    <tr>\n",
       "      <th>10</th>\n",
       "      <td>Nov</td>\n",
       "      <td>2024</td>\n",
       "      <td>131.3</td>\n",
       "      <td>178.7</td>\n",
       "      <td>119.3</td>\n",
       "      <td>120.7</td>\n",
       "      <td>122.8</td>\n",
       "      <td>124.0</td>\n",
       "      <td>128.5</td>\n",
       "      <td>103.2</td>\n",
       "      <td>116.9</td>\n",
       "      <td>120.1</td>\n",
       "      <td>129.0</td>\n",
       "      <td>142.4</td>\n",
       "      <td>121.2</td>\n",
       "    </tr>\n",
       "    <tr>\n",
       "      <th>11</th>\n",
       "      <td>Dec</td>\n",
       "      <td>2024</td>\n",
       "      <td>132.3</td>\n",
       "      <td>179.5</td>\n",
       "      <td>119.4</td>\n",
       "      <td>121.2</td>\n",
       "      <td>123.0</td>\n",
       "      <td>124.2</td>\n",
       "      <td>130.0</td>\n",
       "      <td>103.2</td>\n",
       "      <td>117.0</td>\n",
       "      <td>120.1</td>\n",
       "      <td>129.4</td>\n",
       "      <td>142.4</td>\n",
       "      <td>121.5</td>\n",
       "    </tr>\n",
       "    <tr>\n",
       "      <th>13</th>\n",
       "      <td>Jan</td>\n",
       "      <td>2025</td>\n",
       "      <td>133.8</td>\n",
       "      <td>180.9</td>\n",
       "      <td>119.7</td>\n",
       "      <td>121.4</td>\n",
       "      <td>123.3</td>\n",
       "      <td>124.5</td>\n",
       "      <td>130.3</td>\n",
       "      <td>103.3</td>\n",
       "      <td>117.3</td>\n",
       "      <td>120.3</td>\n",
       "      <td>129.6</td>\n",
       "      <td>142.4</td>\n",
       "      <td>121.7</td>\n",
       "    </tr>\n",
       "    <tr>\n",
       "      <th>14</th>\n",
       "      <td>Feb</td>\n",
       "      <td>2025</td>\n",
       "      <td>132.6</td>\n",
       "      <td>181.9</td>\n",
       "      <td>119.9</td>\n",
       "      <td>121.7</td>\n",
       "      <td>123.5</td>\n",
       "      <td>124.8</td>\n",
       "      <td>130.4</td>\n",
       "      <td>103.4</td>\n",
       "      <td>117.7</td>\n",
       "      <td>120.3</td>\n",
       "      <td>130.1</td>\n",
       "      <td>142.4</td>\n",
       "      <td>122.1</td>\n",
       "    </tr>\n",
       "    <tr>\n",
       "      <th>15</th>\n",
       "      <td>Mar</td>\n",
       "      <td>2025</td>\n",
       "      <td>131.8</td>\n",
       "      <td>182.6</td>\n",
       "      <td>120.0</td>\n",
       "      <td>121.8</td>\n",
       "      <td>123.7</td>\n",
       "      <td>125.1</td>\n",
       "      <td>129.5</td>\n",
       "      <td>103.5</td>\n",
       "      <td>117.7</td>\n",
       "      <td>120.3</td>\n",
       "      <td>130.4</td>\n",
       "      <td>142.4</td>\n",
       "      <td>122.4</td>\n",
       "    </tr>\n",
       "    <tr>\n",
       "      <th>16</th>\n",
       "      <td>Apr</td>\n",
       "      <td>2025</td>\n",
       "      <td>129.9</td>\n",
       "      <td>183.1</td>\n",
       "      <td>120.1</td>\n",
       "      <td>122.6</td>\n",
       "      <td>123.8</td>\n",
       "      <td>125.4</td>\n",
       "      <td>128.9</td>\n",
       "      <td>103.5</td>\n",
       "      <td>117.8</td>\n",
       "      <td>120.3</td>\n",
       "      <td>130.7</td>\n",
       "      <td>142.4</td>\n",
       "      <td>122.6</td>\n",
       "    </tr>\n",
       "    <tr>\n",
       "      <th>17</th>\n",
       "      <td>May</td>\n",
       "      <td>2025</td>\n",
       "      <td>129.8</td>\n",
       "      <td>183.5</td>\n",
       "      <td>120.3</td>\n",
       "      <td>122.6</td>\n",
       "      <td>123.9</td>\n",
       "      <td>125.7</td>\n",
       "      <td>127.9</td>\n",
       "      <td>103.6</td>\n",
       "      <td>118.0</td>\n",
       "      <td>120.3</td>\n",
       "      <td>130.8</td>\n",
       "      <td>142.4</td>\n",
       "      <td>122.8</td>\n",
       "    </tr>\n",
       "    <tr>\n",
       "      <th>18</th>\n",
       "      <td>Jun</td>\n",
       "      <td>2025</td>\n",
       "      <td>130.0</td>\n",
       "      <td>183.8</td>\n",
       "      <td>120.5</td>\n",
       "      <td>122.2</td>\n",
       "      <td>124.2</td>\n",
       "      <td>125.9</td>\n",
       "      <td>128.6</td>\n",
       "      <td>103.6</td>\n",
       "      <td>118.3</td>\n",
       "      <td>121.6</td>\n",
       "      <td>131.1</td>\n",
       "      <td>142.4</td>\n",
       "      <td>122.9</td>\n",
       "    </tr>\n",
       "  </tbody>\n",
       "</table>\n",
       "</div>"
      ],
      "text/plain": [
       "   Month  Year  Food and Non-Alcoholic Beverages  \\\n",
       "0    Jan  2024                             128.9   \n",
       "1    Feb  2024                             129.3   \n",
       "2    Mar  2024                             128.9   \n",
       "3    Apr  2024                             128.7   \n",
       "4    May  2024                             128.7   \n",
       "5    Jun  2024                             129.5   \n",
       "6    Jul  2024                             130.4   \n",
       "7    Aug  2024                             130.4   \n",
       "8    Sep  2024                             129.8   \n",
       "9    Oct  2024                             130.4   \n",
       "10   Nov  2024                             131.3   \n",
       "11   Dec  2024                             132.3   \n",
       "13   Jan  2025                             133.8   \n",
       "14   Feb  2025                             132.6   \n",
       "15   Mar  2025                             131.8   \n",
       "16   Apr  2025                             129.9   \n",
       "17   May  2025                             129.8   \n",
       "18   Jun  2025                             130.0   \n",
       "\n",
       "    Alcoholic Beverages and Tobacco  Clothing and Footwear  \\\n",
       "0                             174.7                  117.0   \n",
       "1                             175.9                  117.4   \n",
       "2                             176.3                  117.9   \n",
       "3                             176.5                  118.2   \n",
       "4                             176.8                  118.4   \n",
       "5                             177.0                  118.5   \n",
       "6                             177.0                  118.7   \n",
       "7                             177.2                  119.0   \n",
       "8                             177.5                  119.1   \n",
       "9                             177.8                  119.2   \n",
       "10                            178.7                  119.3   \n",
       "11                            179.5                  119.4   \n",
       "13                            180.9                  119.7   \n",
       "14                            181.9                  119.9   \n",
       "15                            182.6                  120.0   \n",
       "16                            183.1                  120.1   \n",
       "17                            183.5                  120.3   \n",
       "18                            183.8                  120.5   \n",
       "\n",
       "    Housing, Water, Electricity, Gas and Other Fuels  \\\n",
       "0                                              118.8   \n",
       "1                                              119.8   \n",
       "2                                              119.8   \n",
       "3                                              119.2   \n",
       "4                                              119.8   \n",
       "5                                              118.4   \n",
       "6                                              120.0   \n",
       "7                                              120.9   \n",
       "8                                              121.2   \n",
       "9                                              120.9   \n",
       "10                                             120.7   \n",
       "11                                             121.2   \n",
       "13                                             121.4   \n",
       "14                                             121.7   \n",
       "15                                             121.8   \n",
       "16                                             122.6   \n",
       "17                                             122.6   \n",
       "18                                             122.2   \n",
       "\n",
       "    Furnishings, Household Equipment and Routine Household Maintenance  \\\n",
       "0                                               120.2                    \n",
       "1                                               120.7                    \n",
       "2                                               121.1                    \n",
       "3                                               121.2                    \n",
       "4                                               121.5                    \n",
       "5                                               121.6                    \n",
       "6                                               121.8                    \n",
       "7                                               121.9                    \n",
       "8                                               122.1                    \n",
       "9                                               122.2                    \n",
       "10                                              122.8                    \n",
       "11                                              123.0                    \n",
       "13                                              123.3                    \n",
       "14                                              123.5                    \n",
       "15                                              123.7                    \n",
       "16                                              123.8                    \n",
       "17                                              123.9                    \n",
       "18                                              124.2                    \n",
       "\n",
       "    Health  Transport  Information and Communication  \\\n",
       "0    121.5      128.9                          103.1   \n",
       "1    122.0      130.6                          103.1   \n",
       "2    122.4      130.9                          103.1   \n",
       "3    122.5      131.7                          103.2   \n",
       "4    122.7      131.1                          103.2   \n",
       "5    122.9      130.7                          103.2   \n",
       "6    123.1      131.5                          103.2   \n",
       "7    123.2      129.6                          103.2   \n",
       "8    123.5      127.9                          103.2   \n",
       "9    123.7      128.0                          103.2   \n",
       "10   124.0      128.5                          103.2   \n",
       "11   124.2      130.0                          103.2   \n",
       "13   124.5      130.3                          103.3   \n",
       "14   124.8      130.4                          103.4   \n",
       "15   125.1      129.5                          103.5   \n",
       "16   125.4      128.9                          103.5   \n",
       "17   125.7      127.9                          103.6   \n",
       "18   125.9      128.6                          103.6   \n",
       "\n",
       "    Recreation, Sport and Culture  Education Services  \\\n",
       "0                           114.5               115.4   \n",
       "1                           114.9               115.4   \n",
       "2                           115.2               115.4   \n",
       "3                           115.4               115.4   \n",
       "4                           115.5               115.4   \n",
       "5                           115.7               115.4   \n",
       "6                           115.9               118.1   \n",
       "7                           116.5               120.1   \n",
       "8                           116.7               120.1   \n",
       "9                           116.9               120.1   \n",
       "10                          116.9               120.1   \n",
       "11                          117.0               120.1   \n",
       "13                          117.3               120.3   \n",
       "14                          117.7               120.3   \n",
       "15                          117.7               120.3   \n",
       "16                          117.8               120.3   \n",
       "17                          118.0               120.3   \n",
       "18                          118.3               121.6   \n",
       "\n",
       "    Restaurants and Accommodation Services  Financial Services  \\\n",
       "0                                    125.6               142.4   \n",
       "1                                    126.5               142.4   \n",
       "2                                    127.5               142.4   \n",
       "3                                    127.8               142.4   \n",
       "4                                    128.2               142.4   \n",
       "5                                    128.4               142.4   \n",
       "6                                    128.6               142.4   \n",
       "7                                    128.7               142.4   \n",
       "8                                    128.7               142.4   \n",
       "9                                    128.8               142.4   \n",
       "10                                   129.0               142.4   \n",
       "11                                   129.4               142.4   \n",
       "13                                   129.6               142.4   \n",
       "14                                   130.1               142.4   \n",
       "15                                   130.4               142.4   \n",
       "16                                   130.7               142.4   \n",
       "17                                   130.8               142.4   \n",
       "18                                   131.1               142.4   \n",
       "\n",
       "    Personal Care, and Miscellaneous Goods and Services  \n",
       "0                                               118.4    \n",
       "1                                               119.0    \n",
       "2                                               119.3    \n",
       "3                                               119.6    \n",
       "4                                               119.8    \n",
       "5                                               120.0    \n",
       "6                                               120.3    \n",
       "7                                               120.5    \n",
       "8                                               120.7    \n",
       "9                                               120.9    \n",
       "10                                              121.2    \n",
       "11                                              121.5    \n",
       "13                                              121.7    \n",
       "14                                              122.1    \n",
       "15                                              122.4    \n",
       "16                                              122.6    \n",
       "17                                              122.8    \n",
       "18                                              122.9    "
      ]
     },
     "execution_count": 29,
     "metadata": {},
     "output_type": "execute_result"
    }
   ],
   "source": [
    "df = pd.read_csv('df_combined_with_year.csv')\n",
    "\n",
    "df = df[df['Month'] != 'Ave']\n",
    "\n",
    "df_new = df.drop(columns=['All items'])\n",
    "\n",
    "\n",
    "\n",
    "df_new"
   ]
  },
  {
   "cell_type": "markdown",
   "id": "597fe5ea",
   "metadata": {},
   "source": [
    "Plotting the CPI Trends"
   ]
  },
  {
   "cell_type": "code",
   "execution_count": null,
   "id": "e20641d9",
   "metadata": {},
   "outputs": [
    {
     "data": {
      "application/vnd.microsoft.datawrangler.viewer.v0+json": {
       "columns": [
        {
         "name": "index",
         "rawType": "int64",
         "type": "integer"
        },
        {
         "name": "Year",
         "rawType": "object",
         "type": "string"
        },
        {
         "name": "Month",
         "rawType": "object",
         "type": "string"
        },
        {
         "name": "CPI_Type",
         "rawType": "object",
         "type": "string"
        },
        {
         "name": "CPI_Value",
         "rawType": "float64",
         "type": "float"
        },
        {
         "name": "Date",
         "rawType": "datetime64[ns]",
         "type": "datetime"
        }
       ],
       "ref": "58aab344-8cca-4c7b-8726-36ac7cc33e21",
       "rows": [
        [
         "0",
         "2024",
         "Jan",
         "Food and Non-Alcoholic Beverages",
         "128.9",
         "2024-01-01 00:00:00"
        ],
        [
         "1",
         "2024",
         "Feb",
         "Food and Non-Alcoholic Beverages",
         "129.3",
         "2024-02-01 00:00:00"
        ],
        [
         "2",
         "2024",
         "Mar",
         "Food and Non-Alcoholic Beverages",
         "128.9",
         "2024-03-01 00:00:00"
        ],
        [
         "3",
         "2024",
         "Apr",
         "Food and Non-Alcoholic Beverages",
         "128.7",
         "2024-04-01 00:00:00"
        ],
        [
         "4",
         "2024",
         "May",
         "Food and Non-Alcoholic Beverages",
         "128.7",
         "2024-05-01 00:00:00"
        ],
        [
         "5",
         "2024",
         "Jun",
         "Food and Non-Alcoholic Beverages",
         "129.5",
         "2024-06-01 00:00:00"
        ],
        [
         "6",
         "2024",
         "Jul",
         "Food and Non-Alcoholic Beverages",
         "130.4",
         "2024-07-01 00:00:00"
        ],
        [
         "7",
         "2024",
         "Aug",
         "Food and Non-Alcoholic Beverages",
         "130.4",
         "2024-08-01 00:00:00"
        ],
        [
         "8",
         "2024",
         "Sep",
         "Food and Non-Alcoholic Beverages",
         "129.8",
         "2024-09-01 00:00:00"
        ],
        [
         "9",
         "2024",
         "Oct",
         "Food and Non-Alcoholic Beverages",
         "130.4",
         "2024-10-01 00:00:00"
        ],
        [
         "10",
         "2024",
         "Nov",
         "Food and Non-Alcoholic Beverages",
         "131.3",
         "2024-11-01 00:00:00"
        ],
        [
         "11",
         "2024",
         "Dec",
         "Food and Non-Alcoholic Beverages",
         "132.3",
         "2024-12-01 00:00:00"
        ],
        [
         "12",
         "2025",
         "Jan",
         "Food and Non-Alcoholic Beverages",
         "133.8",
         "2025-01-01 00:00:00"
        ],
        [
         "13",
         "2025",
         "Feb",
         "Food and Non-Alcoholic Beverages",
         "132.6",
         "2025-02-01 00:00:00"
        ],
        [
         "14",
         "2025",
         "Mar",
         "Food and Non-Alcoholic Beverages",
         "131.8",
         "2025-03-01 00:00:00"
        ],
        [
         "15",
         "2025",
         "Apr",
         "Food and Non-Alcoholic Beverages",
         "129.9",
         "2025-04-01 00:00:00"
        ],
        [
         "16",
         "2025",
         "May",
         "Food and Non-Alcoholic Beverages",
         "129.8",
         "2025-05-01 00:00:00"
        ],
        [
         "17",
         "2025",
         "Jun",
         "Food and Non-Alcoholic Beverages",
         "130.0",
         "2025-06-01 00:00:00"
        ],
        [
         "18",
         "2024",
         "Jan",
         "Alcoholic Beverages and Tobacco",
         "174.7",
         "2024-01-01 00:00:00"
        ],
        [
         "19",
         "2024",
         "Feb",
         "Alcoholic Beverages and Tobacco",
         "175.9",
         "2024-02-01 00:00:00"
        ],
        [
         "20",
         "2024",
         "Mar",
         "Alcoholic Beverages and Tobacco",
         "176.3",
         "2024-03-01 00:00:00"
        ],
        [
         "21",
         "2024",
         "Apr",
         "Alcoholic Beverages and Tobacco",
         "176.5",
         "2024-04-01 00:00:00"
        ],
        [
         "22",
         "2024",
         "May",
         "Alcoholic Beverages and Tobacco",
         "176.8",
         "2024-05-01 00:00:00"
        ],
        [
         "23",
         "2024",
         "Jun",
         "Alcoholic Beverages and Tobacco",
         "177.0",
         "2024-06-01 00:00:00"
        ],
        [
         "24",
         "2024",
         "Jul",
         "Alcoholic Beverages and Tobacco",
         "177.0",
         "2024-07-01 00:00:00"
        ],
        [
         "25",
         "2024",
         "Aug",
         "Alcoholic Beverages and Tobacco",
         "177.2",
         "2024-08-01 00:00:00"
        ],
        [
         "26",
         "2024",
         "Sep",
         "Alcoholic Beverages and Tobacco",
         "177.5",
         "2024-09-01 00:00:00"
        ],
        [
         "27",
         "2024",
         "Oct",
         "Alcoholic Beverages and Tobacco",
         "177.8",
         "2024-10-01 00:00:00"
        ],
        [
         "28",
         "2024",
         "Nov",
         "Alcoholic Beverages and Tobacco",
         "178.7",
         "2024-11-01 00:00:00"
        ],
        [
         "29",
         "2024",
         "Dec",
         "Alcoholic Beverages and Tobacco",
         "179.5",
         "2024-12-01 00:00:00"
        ],
        [
         "30",
         "2025",
         "Jan",
         "Alcoholic Beverages and Tobacco",
         "180.9",
         "2025-01-01 00:00:00"
        ],
        [
         "31",
         "2025",
         "Feb",
         "Alcoholic Beverages and Tobacco",
         "181.9",
         "2025-02-01 00:00:00"
        ],
        [
         "32",
         "2025",
         "Mar",
         "Alcoholic Beverages and Tobacco",
         "182.6",
         "2025-03-01 00:00:00"
        ],
        [
         "33",
         "2025",
         "Apr",
         "Alcoholic Beverages and Tobacco",
         "183.1",
         "2025-04-01 00:00:00"
        ],
        [
         "34",
         "2025",
         "May",
         "Alcoholic Beverages and Tobacco",
         "183.5",
         "2025-05-01 00:00:00"
        ],
        [
         "35",
         "2025",
         "Jun",
         "Alcoholic Beverages and Tobacco",
         "183.8",
         "2025-06-01 00:00:00"
        ],
        [
         "36",
         "2024",
         "Jan",
         "Clothing and Footwear",
         "117.0",
         "2024-01-01 00:00:00"
        ],
        [
         "37",
         "2024",
         "Feb",
         "Clothing and Footwear",
         "117.4",
         "2024-02-01 00:00:00"
        ],
        [
         "38",
         "2024",
         "Mar",
         "Clothing and Footwear",
         "117.9",
         "2024-03-01 00:00:00"
        ],
        [
         "39",
         "2024",
         "Apr",
         "Clothing and Footwear",
         "118.2",
         "2024-04-01 00:00:00"
        ],
        [
         "40",
         "2024",
         "May",
         "Clothing and Footwear",
         "118.4",
         "2024-05-01 00:00:00"
        ],
        [
         "41",
         "2024",
         "Jun",
         "Clothing and Footwear",
         "118.5",
         "2024-06-01 00:00:00"
        ],
        [
         "42",
         "2024",
         "Jul",
         "Clothing and Footwear",
         "118.7",
         "2024-07-01 00:00:00"
        ],
        [
         "43",
         "2024",
         "Aug",
         "Clothing and Footwear",
         "119.0",
         "2024-08-01 00:00:00"
        ],
        [
         "44",
         "2024",
         "Sep",
         "Clothing and Footwear",
         "119.1",
         "2024-09-01 00:00:00"
        ],
        [
         "45",
         "2024",
         "Oct",
         "Clothing and Footwear",
         "119.2",
         "2024-10-01 00:00:00"
        ],
        [
         "46",
         "2024",
         "Nov",
         "Clothing and Footwear",
         "119.3",
         "2024-11-01 00:00:00"
        ],
        [
         "47",
         "2024",
         "Dec",
         "Clothing and Footwear",
         "119.4",
         "2024-12-01 00:00:00"
        ],
        [
         "48",
         "2025",
         "Jan",
         "Clothing and Footwear",
         "119.7",
         "2025-01-01 00:00:00"
        ],
        [
         "49",
         "2025",
         "Feb",
         "Clothing and Footwear",
         "119.9",
         "2025-02-01 00:00:00"
        ]
       ],
       "shape": {
        "columns": 5,
        "rows": 234
       }
      },
      "text/html": [
       "<div>\n",
       "<style scoped>\n",
       "    .dataframe tbody tr th:only-of-type {\n",
       "        vertical-align: middle;\n",
       "    }\n",
       "\n",
       "    .dataframe tbody tr th {\n",
       "        vertical-align: top;\n",
       "    }\n",
       "\n",
       "    .dataframe thead th {\n",
       "        text-align: right;\n",
       "    }\n",
       "</style>\n",
       "<table border=\"1\" class=\"dataframe\">\n",
       "  <thead>\n",
       "    <tr style=\"text-align: right;\">\n",
       "      <th></th>\n",
       "      <th>Year</th>\n",
       "      <th>Month</th>\n",
       "      <th>CPI_Type</th>\n",
       "      <th>CPI_Value</th>\n",
       "      <th>Date</th>\n",
       "    </tr>\n",
       "  </thead>\n",
       "  <tbody>\n",
       "    <tr>\n",
       "      <th>0</th>\n",
       "      <td>2024</td>\n",
       "      <td>Jan</td>\n",
       "      <td>Food and Non-Alcoholic Beverages</td>\n",
       "      <td>128.9</td>\n",
       "      <td>2024-01-01</td>\n",
       "    </tr>\n",
       "    <tr>\n",
       "      <th>1</th>\n",
       "      <td>2024</td>\n",
       "      <td>Feb</td>\n",
       "      <td>Food and Non-Alcoholic Beverages</td>\n",
       "      <td>129.3</td>\n",
       "      <td>2024-02-01</td>\n",
       "    </tr>\n",
       "    <tr>\n",
       "      <th>2</th>\n",
       "      <td>2024</td>\n",
       "      <td>Mar</td>\n",
       "      <td>Food and Non-Alcoholic Beverages</td>\n",
       "      <td>128.9</td>\n",
       "      <td>2024-03-01</td>\n",
       "    </tr>\n",
       "    <tr>\n",
       "      <th>3</th>\n",
       "      <td>2024</td>\n",
       "      <td>Apr</td>\n",
       "      <td>Food and Non-Alcoholic Beverages</td>\n",
       "      <td>128.7</td>\n",
       "      <td>2024-04-01</td>\n",
       "    </tr>\n",
       "    <tr>\n",
       "      <th>4</th>\n",
       "      <td>2024</td>\n",
       "      <td>May</td>\n",
       "      <td>Food and Non-Alcoholic Beverages</td>\n",
       "      <td>128.7</td>\n",
       "      <td>2024-05-01</td>\n",
       "    </tr>\n",
       "    <tr>\n",
       "      <th>...</th>\n",
       "      <td>...</td>\n",
       "      <td>...</td>\n",
       "      <td>...</td>\n",
       "      <td>...</td>\n",
       "      <td>...</td>\n",
       "    </tr>\n",
       "    <tr>\n",
       "      <th>229</th>\n",
       "      <td>2025</td>\n",
       "      <td>Feb</td>\n",
       "      <td>Personal Care, and Miscellaneous Goods and Ser...</td>\n",
       "      <td>122.1</td>\n",
       "      <td>2025-02-01</td>\n",
       "    </tr>\n",
       "    <tr>\n",
       "      <th>230</th>\n",
       "      <td>2025</td>\n",
       "      <td>Mar</td>\n",
       "      <td>Personal Care, and Miscellaneous Goods and Ser...</td>\n",
       "      <td>122.4</td>\n",
       "      <td>2025-03-01</td>\n",
       "    </tr>\n",
       "    <tr>\n",
       "      <th>231</th>\n",
       "      <td>2025</td>\n",
       "      <td>Apr</td>\n",
       "      <td>Personal Care, and Miscellaneous Goods and Ser...</td>\n",
       "      <td>122.6</td>\n",
       "      <td>2025-04-01</td>\n",
       "    </tr>\n",
       "    <tr>\n",
       "      <th>232</th>\n",
       "      <td>2025</td>\n",
       "      <td>May</td>\n",
       "      <td>Personal Care, and Miscellaneous Goods and Ser...</td>\n",
       "      <td>122.8</td>\n",
       "      <td>2025-05-01</td>\n",
       "    </tr>\n",
       "    <tr>\n",
       "      <th>233</th>\n",
       "      <td>2025</td>\n",
       "      <td>Jun</td>\n",
       "      <td>Personal Care, and Miscellaneous Goods and Ser...</td>\n",
       "      <td>122.9</td>\n",
       "      <td>2025-06-01</td>\n",
       "    </tr>\n",
       "  </tbody>\n",
       "</table>\n",
       "<p>234 rows × 5 columns</p>\n",
       "</div>"
      ],
      "text/plain": [
       "     Year Month                                           CPI_Type  CPI_Value  \\\n",
       "0    2024   Jan                   Food and Non-Alcoholic Beverages      128.9   \n",
       "1    2024   Feb                   Food and Non-Alcoholic Beverages      129.3   \n",
       "2    2024   Mar                   Food and Non-Alcoholic Beverages      128.9   \n",
       "3    2024   Apr                   Food and Non-Alcoholic Beverages      128.7   \n",
       "4    2024   May                   Food and Non-Alcoholic Beverages      128.7   \n",
       "..    ...   ...                                                ...        ...   \n",
       "229  2025   Feb  Personal Care, and Miscellaneous Goods and Ser...      122.1   \n",
       "230  2025   Mar  Personal Care, and Miscellaneous Goods and Ser...      122.4   \n",
       "231  2025   Apr  Personal Care, and Miscellaneous Goods and Ser...      122.6   \n",
       "232  2025   May  Personal Care, and Miscellaneous Goods and Ser...      122.8   \n",
       "233  2025   Jun  Personal Care, and Miscellaneous Goods and Ser...      122.9   \n",
       "\n",
       "          Date  \n",
       "0   2024-01-01  \n",
       "1   2024-02-01  \n",
       "2   2024-03-01  \n",
       "3   2024-04-01  \n",
       "4   2024-05-01  \n",
       "..         ...  \n",
       "229 2025-02-01  \n",
       "230 2025-03-01  \n",
       "231 2025-04-01  \n",
       "232 2025-05-01  \n",
       "233 2025-06-01  \n",
       "\n",
       "[234 rows x 5 columns]"
      ]
     },
     "execution_count": 73,
     "metadata": {},
     "output_type": "execute_result"
    }
   ],
   "source": [
    "melt_df = pd.melt(df_new, id_vars=['Year', 'Month'], var_name='CPI_Type', value_name='CPI_Value')\n",
    "\n",
    "melt_df\n",
    "\n",
    "# Create a datetime column for better sorting\n",
    "melt_df['Date'] = pd.to_datetime(melt_df['Year'].astype(str) + '-' + melt_df['Month'], format='%Y-%b')\n",
    "\n",
    "melt_df"
   ]
  },
  {
   "cell_type": "markdown",
   "id": "25fdd50b",
   "metadata": {},
   "source": [
    "Phillipine CPI Consumer Price Index Trends"
   ]
  },
  {
   "cell_type": "code",
   "execution_count": 31,
   "id": "79869261",
   "metadata": {},
   "outputs": [
    {
     "data": {
      "image/png": "[encoded data removed]",
      "text/plain": [
       "<Figure size 640x480 with 1 Axes>"
      ]
     },
     "metadata": {
      "image/png": {
       "height": 432,
       "width": 1154
      }
     },
     "output_type": "display_data"
    }
   ],
   "source": [
    "sns.lineplot(data=melt_df, x='Month', y='CPI_Value', hue='CPI_Type')\n",
    "\n",
    "plt.legend(title='CPI Type', bbox_to_anchor=(1.05, 1), loc='upper left')\n",
    "\n",
    "sns.despine()"
   ]
  },
  {
   "cell_type": "markdown",
   "id": "6184de11",
   "metadata": {},
   "source": [
    "Enhancing Figure"
   ]
  },
  {
   "cell_type": "code",
   "execution_count": 74,
   "id": "22650624",
   "metadata": {},
   "outputs": [
    {
     "data": {
      "application/vnd.plotly.v1+json": {
       "config": {
        "plotlyServerURL": "https://plot.ly"
       },
       "data": [
        {
         "hovertemplate": "CPI_Type=Food and Non-Alcoholic Beverages<br>Date=%{x}<br>CPI_Value=%{y}<extra></extra>",
         "legendgroup": "Food and Non-Alcoholic Beverages",
         "line": {
          "color": "#636efa",
          "dash": "solid"
         },
         "marker": {
          "symbol": "circle"
         },
         "mode": "lines",
         "name": "Food and Non-Alcoholic Beverages",
         "orientation": "v",
         "showlegend": true,
         "type": "scatter",
         "x": [
          "2024-01-01T00:00:00.000000000",
          "2024-02-01T00:00:00.000000000",
          "2024-03-01T00:00:00.000000000",
          "2024-04-01T00:00:00.000000000",
          "2024-05-01T00:00:00.000000000",
          "2024-06-01T00:00:00.000000000",
          "2024-07-01T00:00:00.000000000",
          "2024-08-01T00:00:00.000000000",
          "2024-09-01T00:00:00.000000000",
          "2024-10-01T00:00:00.000000000",
          "2024-11-01T00:00:00.000000000",
          "2024-12-01T00:00:00.000000000",
          "2025-01-01T00:00:00.000000000",
          "2025-02-01T00:00:00.000000000",
          "2025-03-01T00:00:00.000000000",
          "2025-04-01T00:00:00.000000000",
          "2025-05-01T00:00:00.000000000",
          "2025-06-01T00:00:00.000000000"
         ],
         "xaxis": "x",
         "y": {
          "bdata": "zczMzMwcYECamZmZmSlgQM3MzMzMHGBAZmZmZmYWYEBmZmZmZhZgQAAAAAAAMGBAzczMzMxMYEDNzMzMzExgQJqZmZmZOWBAzczMzMxMYECamZmZmWlgQJqZmZmZiWBAmpmZmZm5YEAzMzMzM5NgQJqZmZmZeWBAzczMzMw8YECamZmZmTlgQAAAAAAAQGBA",
          "dtype": "f8"
         },
         "yaxis": "y"
        },
        {
         "hovertemplate": "CPI_Type=Alcoholic Beverages and Tobacco<br>Date=%{x}<br>CPI_Value=%{y}<extra></extra>",
         "legendgroup": "Alcoholic Beverages and Tobacco",
         "line": {
          "color": "#EF553B",
          "dash": "solid"
         },
         "marker": {
          "symbol": "circle"
         },
         "mode": "lines",
         "name": "Alcoholic Beverages and Tobacco",
         "orientation": "v",
         "showlegend": true,
         "type": "scatter",
         "x": [
          "2024-01-01T00:00:00.000000000",
          "2024-02-01T00:00:00.000000000",
          "2024-03-01T00:00:00.000000000",
          "2024-04-01T00:00:00.000000000",
          "2024-05-01T00:00:00.000000000",
          "2024-06-01T00:00:00.000000000",
          "2024-07-01T00:00:00.000000000",
          "2024-08-01T00:00:00.000000000",
          "2024-09-01T00:00:00.000000000",
          "2024-10-01T00:00:00.000000000",
          "2024-11-01T00:00:00.000000000",
          "2024-12-01T00:00:00.000000000",
          "2025-01-01T00:00:00.000000000",
          "2025-02-01T00:00:00.000000000",
          "2025-03-01T00:00:00.000000000",
          "2025-04-01T00:00:00.000000000",
          "2025-05-01T00:00:00.000000000",
          "2025-06-01T00:00:00.000000000"
         ],
         "xaxis": "x",
         "y": {
          "bdata": "ZmZmZmbWZUDNzMzMzPxlQJqZmZmZCWZAAAAAAAAQZkCamZmZmRlmQAAAAAAAIGZAAAAAAAAgZkBmZmZmZiZmQAAAAAAAMGZAmpmZmZk5ZkBmZmZmZlZmQAAAAAAAcGZAzczMzMycZkDNzMzMzLxmQDMzMzMz02ZAMzMzMzPjZkAAAAAAAPBmQJqZmZmZ+WZA",
          "dtype": "f8"
         },
         "yaxis": "y"
        },
        {
         "hovertemplate": "CPI_Type=Clothing and Footwear<br>Date=%{x}<br>CPI_Value=%{y}<extra></extra>",
         "legendgroup": "Clothing and Footwear",
         "line": {
          "color": "#00cc96",
          "dash": "solid"
         },
         "marker": {
          "symbol": "circle"
         },
         "mode": "lines",
         "name": "Clothing and Footwear",
         "orientation": "v",
         "showlegend": true,
         "type": "scatter",
         "x": [
          "2024-01-01T00:00:00.000000000",
          "2024-02-01T00:00:00.000000000",
          "2024-03-01T00:00:00.000000000",
          "2024-04-01T00:00:00.000000000",
          "2024-05-01T00:00:00.000000000",
          "2024-06-01T00:00:00.000000000",
          "2024-07-01T00:00:00.000000000",
          "2024-08-01T00:00:00.000000000",
          "2024-09-01T00:00:00.000000000",
          "2024-10-01T00:00:00.000000000",
          "2024-11-01T00:00:00.000000000",
          "2024-12-01T00:00:00.000000000",
          "2025-01-01T00:00:00.000000000",
          "2025-02-01T00:00:00.000000000",
          "2025-03-01T00:00:00.000000000",
          "2025-04-01T00:00:00.000000000",
          "2025-05-01T00:00:00.000000000",
          "2025-06-01T00:00:00.000000000"
         ],
         "xaxis": "x",
         "y": {
          "bdata": "AAAAAABAXUCamZmZmVldQJqZmZmZeV1AzczMzMyMXUCamZmZmZldQAAAAAAAoF1AzczMzMysXUAAAAAAAMBdQGZmZmZmxl1AzczMzMzMXUAzMzMzM9NdQJqZmZmZ2V1AzczMzMzsXUCamZmZmfldQAAAAAAAAF5AZmZmZmYGXkAzMzMzMxNeQAAAAAAAIF5A",
          "dtype": "f8"
         },
         "yaxis": "y"
        },
        {
         "hovertemplate": "CPI_Type=Housing, Water, Electricity, Gas and Other Fuels<br>Date=%{x}<br>CPI_Value=%{y}<extra></extra>",
         "legendgroup": "Housing, Water, Electricity, Gas and Other Fuels",
         "line": {
          "color": "#ab63fa",
          "dash": "solid"
         },
         "marker": {
          "symbol": "circle"
         },
         "mode": "lines",
         "name": "Housing, Water, Electricity, Gas and Other Fuels",
         "orientation": "v",
         "showlegend": true,
         "type": "scatter",
         "x": [
          "2024-01-01T00:00:00.000000000",
          "2024-02-01T00:00:00.000000000",
          "2024-03-01T00:00:00.000000000",
          "2024-04-01T00:00:00.000000000",
          "2024-05-01T00:00:00.000000000",
          "2024-06-01T00:00:00.000000000",
          "2024-07-01T00:00:00.000000000",
          "2024-08-01T00:00:00.000000000",
          "2024-09-01T00:00:00.000000000",
          "2024-10-01T00:00:00.000000000",
          "2024-11-01T00:00:00.000000000",
          "2024-12-01T00:00:00.000000000",
          "2025-01-01T00:00:00.000000000",
          "2025-02-01T00:00:00.000000000",
          "2025-03-01T00:00:00.000000000",
          "2025-04-01T00:00:00.000000000",
          "2025-05-01T00:00:00.000000000",
          "2025-06-01T00:00:00.000000000"
         ],
         "xaxis": "x",
         "y": {
          "bdata": "MzMzMzOzXUAzMzMzM/NdQDMzMzMz811AzczMzMzMXUAzMzMzM/NdQJqZmZmZmV1AAAAAAAAAXkCamZmZmTleQM3MzMzMTF5AmpmZmZk5XkDNzMzMzCxeQM3MzMzMTF5AmpmZmZlZXkDNzMzMzGxeQDMzMzMzc15AZmZmZmamXkBmZmZmZqZeQM3MzMzMjF5A",
          "dtype": "f8"
         },
         "yaxis": "y"
        },
        {
         "hovertemplate": "CPI_Type=Furnishings, Household Equipment and Routine Household Maintenance<br>Date=%{x}<br>CPI_Value=%{y}<extra></extra>",
         "legendgroup": "Furnishings, Household Equipment and Routine Household Maintenance",
         "line": {
          "color": "#FFA15A",
          "dash": "solid"
         },
         "marker": {
          "symbol": "circle"
         },
         "mode": "lines",
         "name": "Furnishings, Household Equipment and Routine Household Maintenance",
         "orientation": "v",
         "showlegend": true,
         "type": "scatter",
         "x": [
          "2024-01-01T00:00:00.000000000",
          "2024-02-01T00:00:00.000000000",
          "2024-03-01T00:00:00.000000000",
          "2024-04-01T00:00:00.000000000",
          "2024-05-01T00:00:00.000000000",
          "2024-06-01T00:00:00.000000000",
          "2024-07-01T00:00:00.000000000",
          "2024-08-01T00:00:00.000000000",
          "2024-09-01T00:00:00.000000000",
          "2024-10-01T00:00:00.000000000",
          "2024-11-01T00:00:00.000000000",
          "2024-12-01T00:00:00.000000000",
          "2025-01-01T00:00:00.000000000",
          "2025-02-01T00:00:00.000000000",
          "2025-03-01T00:00:00.000000000",
          "2025-04-01T00:00:00.000000000",
          "2025-05-01T00:00:00.000000000",
          "2025-06-01T00:00:00.000000000"
         ],
         "xaxis": "x",
         "y": {
          "bdata": "zczMzMwMXkDNzMzMzCxeQGZmZmZmRl5AzczMzMxMXkAAAAAAAGBeQGZmZmZmZl5AMzMzMzNzXkCamZmZmXleQGZmZmZmhl5AzczMzMyMXkAzMzMzM7NeQAAAAAAAwF5AMzMzMzPTXkAAAAAAAOBeQM3MzMzM7F5AMzMzMzPzXkCamZmZmfleQM3MzMzMDF9A",
          "dtype": "f8"
         },
         "yaxis": "y"
        },
        {
         "hovertemplate": "CPI_Type=Health<br>Date=%{x}<br>CPI_Value=%{y}<extra></extra>",
         "legendgroup": "Health",
         "line": {
          "color": "#19d3f3",
          "dash": "solid"
         },
         "marker": {
          "symbol": "circle"
         },
         "mode": "lines",
         "name": "Health",
         "orientation": "v",
         "showlegend": true,
         "type": "scatter",
         "x": [
          "2024-01-01T00:00:00.000000000",
          "2024-02-01T00:00:00.000000000",
          "2024-03-01T00:00:00.000000000",
          "2024-04-01T00:00:00.000000000",
          "2024-05-01T00:00:00.000000000",
          "2024-06-01T00:00:00.000000000",
          "2024-07-01T00:00:00.000000000",
          "2024-08-01T00:00:00.000000000",
          "2024-09-01T00:00:00.000000000",
          "2024-10-01T00:00:00.000000000",
          "2024-11-01T00:00:00.000000000",
          "2024-12-01T00:00:00.000000000",
          "2025-01-01T00:00:00.000000000",
          "2025-02-01T00:00:00.000000000",
          "2025-03-01T00:00:00.000000000",
          "2025-04-01T00:00:00.000000000",
          "2025-05-01T00:00:00.000000000",
          "2025-06-01T00:00:00.000000000"
         ],
         "xaxis": "x",
         "y": {
          "bdata": "AAAAAABgXkAAAAAAAIBeQJqZmZmZmV5AAAAAAACgXkDNzMzMzKxeQJqZmZmZuV5AZmZmZmbGXkDNzMzMzMxeQAAAAAAA4F5AzczMzMzsXkAAAAAAAABfQM3MzMzMDF9AAAAAAAAgX0AzMzMzMzNfQGZmZmZmRl9AmpmZmZlZX0DNzMzMzGxfQJqZmZmZeV9A",
          "dtype": "f8"
         },
         "yaxis": "y"
        },
        {
         "hovertemplate": "CPI_Type=Transport<br>Date=%{x}<br>CPI_Value=%{y}<extra></extra>",
         "legendgroup": "Transport",
         "line": {
          "color": "#FF6692",
          "dash": "solid"
         },
         "marker": {
          "symbol": "circle"
         },
         "mode": "lines",
         "name": "Transport",
         "orientation": "v",
         "showlegend": true,
         "type": "scatter",
         "x": [
          "2024-01-01T00:00:00.000000000",
          "2024-02-01T00:00:00.000000000",
          "2024-03-01T00:00:00.000000000",
          "2024-04-01T00:00:00.000000000",
          "2024-05-01T00:00:00.000000000",
          "2024-06-01T00:00:00.000000000",
          "2024-07-01T00:00:00.000000000",
          "2024-08-01T00:00:00.000000000",
          "2024-09-01T00:00:00.000000000",
          "2024-10-01T00:00:00.000000000",
          "2024-11-01T00:00:00.000000000",
          "2024-12-01T00:00:00.000000000",
          "2025-01-01T00:00:00.000000000",
          "2025-02-01T00:00:00.000000000",
          "2025-03-01T00:00:00.000000000",
          "2025-04-01T00:00:00.000000000",
          "2025-05-01T00:00:00.000000000",
          "2025-06-01T00:00:00.000000000"
         ],
         "xaxis": "x",
         "y": {
          "bdata": "zczMzMwcYEAzMzMzM1NgQM3MzMzMXGBAZmZmZmZ2YEAzMzMzM2NgQGZmZmZmVmBAAAAAAABwYEAzMzMzMzNgQJqZmZmZ+V9AAAAAAAAAYEAAAAAAABBgQAAAAAAAQGBAmpmZmZlJYEDNzMzMzExgQAAAAAAAMGBAzczMzMwcYECamZmZmflfQDMzMzMzE2BA",
          "dtype": "f8"
         },
         "yaxis": "y"
        },
        {
         "hovertemplate": "CPI_Type=Information and Communication<br>Date=%{x}<br>CPI_Value=%{y}<extra></extra>",
         "legendgroup": "Information and Communication",
         "line": {
          "color": "#B6E880",
          "dash": "solid"
         },
         "marker": {
          "symbol": "circle"
         },
         "mode": "lines",
         "name": "Information and Communication",
         "orientation": "v",
         "showlegend": true,
         "type": "scatter",
         "x": [
          "2024-01-01T00:00:00.000000000",
          "2024-02-01T00:00:00.000000000",
          "2024-03-01T00:00:00.000000000",
          "2024-04-01T00:00:00.000000000",
          "2024-05-01T00:00:00.000000000",
          "2024-06-01T00:00:00.000000000",
          "2024-07-01T00:00:00.000000000",
          "2024-08-01T00:00:00.000000000",
          "2024-09-01T00:00:00.000000000",
          "2024-10-01T00:00:00.000000000",
          "2024-11-01T00:00:00.000000000",
          "2024-12-01T00:00:00.000000000",
          "2025-01-01T00:00:00.000000000",
          "2025-02-01T00:00:00.000000000",
          "2025-03-01T00:00:00.000000000",
          "2025-04-01T00:00:00.000000000",
          "2025-05-01T00:00:00.000000000",
          "2025-06-01T00:00:00.000000000"
         ],
         "xaxis": "x",
         "y": {
          "bdata": "ZmZmZmbGWUBmZmZmZsZZQGZmZmZmxllAzczMzMzMWUDNzMzMzMxZQM3MzMzMzFlAzczMzMzMWUDNzMzMzMxZQM3MzMzMzFlAzczMzMzMWUDNzMzMzMxZQM3MzMzMzFlAMzMzMzPTWUCamZmZmdlZQAAAAAAA4FlAAAAAAADgWUBmZmZmZuZZQGZmZmZm5llA",
          "dtype": "f8"
         },
         "yaxis": "y"
        },
        {
         "hovertemplate": "CPI_Type=Recreation, Sport and Culture<br>Date=%{x}<br>CPI_Value=%{y}<extra></extra>",
         "legendgroup": "Recreation, Sport and Culture",
         "line": {
          "color": "#FF97FF",
          "dash": "solid"
         },
         "marker": {
          "symbol": "circle"
         },
         "mode": "lines",
         "name": "Recreation, Sport and Culture",
         "orientation": "v",
         "showlegend": true,
         "type": "scatter",
         "x": [
          "2024-01-01T00:00:00.000000000",
          "2024-02-01T00:00:00.000000000",
          "2024-03-01T00:00:00.000000000",
          "2024-04-01T00:00:00.000000000",
          "2024-05-01T00:00:00.000000000",
          "2024-06-01T00:00:00.000000000",
          "2024-07-01T00:00:00.000000000",
          "2024-08-01T00:00:00.000000000",
          "2024-09-01T00:00:00.000000000",
          "2024-10-01T00:00:00.000000000",
          "2024-11-01T00:00:00.000000000",
          "2024-12-01T00:00:00.000000000",
          "2025-01-01T00:00:00.000000000",
          "2025-02-01T00:00:00.000000000",
          "2025-03-01T00:00:00.000000000",
          "2025-04-01T00:00:00.000000000",
          "2025-05-01T00:00:00.000000000",
          "2025-06-01T00:00:00.000000000"
         ],
         "xaxis": "x",
         "y": {
          "bdata": "AAAAAACgXECamZmZmblcQM3MzMzMzFxAmpmZmZnZXEAAAAAAAOBcQM3MzMzM7FxAmpmZmZn5XEAAAAAAACBdQM3MzMzMLF1AmpmZmZk5XUCamZmZmTldQAAAAAAAQF1AMzMzMzNTXUDNzMzMzGxdQM3MzMzMbF1AMzMzMzNzXUAAAAAAAIBdQDMzMzMzk11A",
          "dtype": "f8"
         },
         "yaxis": "y"
        },
        {
         "hovertemplate": "CPI_Type=Education Services<br>Date=%{x}<br>CPI_Value=%{y}<extra></extra>",
         "legendgroup": "Education Services",
         "line": {
          "color": "#FECB52",
          "dash": "solid"
         },
         "marker": {
          "symbol": "circle"
         },
         "mode": "lines",
         "name": "Education Services",
         "orientation": "v",
         "showlegend": true,
         "type": "scatter",
         "x": [
          "2024-01-01T00:00:00.000000000",
          "2024-02-01T00:00:00.000000000",
          "2024-03-01T00:00:00.000000000",
          "2024-04-01T00:00:00.000000000",
          "2024-05-01T00:00:00.000000000",
          "2024-06-01T00:00:00.000000000",
          "2024-07-01T00:00:00.000000000",
          "2024-08-01T00:00:00.000000000",
          "2024-09-01T00:00:00.000000000",
          "2024-10-01T00:00:00.000000000",
          "2024-11-01T00:00:00.000000000",
          "2024-12-01T00:00:00.000000000",
          "2025-01-01T00:00:00.000000000",
          "2025-02-01T00:00:00.000000000",
          "2025-03-01T00:00:00.000000000",
          "2025-04-01T00:00:00.000000000",
          "2025-05-01T00:00:00.000000000",
          "2025-06-01T00:00:00.000000000"
         ],
         "xaxis": "x",
         "y": {
          "bdata": "mpmZmZnZXECamZmZmdlcQJqZmZmZ2VxAmpmZmZnZXECamZmZmdlcQJqZmZmZ2VxAZmZmZmaGXUBmZmZmZgZeQGZmZmZmBl5AZmZmZmYGXkBmZmZmZgZeQGZmZmZmBl5AMzMzMzMTXkAzMzMzMxNeQDMzMzMzE15AMzMzMzMTXkAzMzMzMxNeQGZmZmZmZl5A",
          "dtype": "f8"
         },
         "yaxis": "y"
        },
        {
         "hovertemplate": "CPI_Type=Restaurants and Accommodation Services<br>Date=%{x}<br>CPI_Value=%{y}<extra></extra>",
         "legendgroup": "Restaurants and Accommodation Services",
         "line": {
          "color": "#636efa",
          "dash": "solid"
         },
         "marker": {
          "symbol": "circle"
         },
         "mode": "lines",
         "name": "Restaurants and Accommodation Services",
         "orientation": "v",
         "showlegend": true,
         "type": "scatter",
         "x": [
          "2024-01-01T00:00:00.000000000",
          "2024-02-01T00:00:00.000000000",
          "2024-03-01T00:00:00.000000000",
          "2024-04-01T00:00:00.000000000",
          "2024-05-01T00:00:00.000000000",
          "2024-06-01T00:00:00.000000000",
          "2024-07-01T00:00:00.000000000",
          "2024-08-01T00:00:00.000000000",
          "2024-09-01T00:00:00.000000000",
          "2024-10-01T00:00:00.000000000",
          "2024-11-01T00:00:00.000000000",
          "2024-12-01T00:00:00.000000000",
          "2025-01-01T00:00:00.000000000",
          "2025-02-01T00:00:00.000000000",
          "2025-03-01T00:00:00.000000000",
          "2025-04-01T00:00:00.000000000",
          "2025-05-01T00:00:00.000000000",
          "2025-06-01T00:00:00.000000000"
         ],
         "xaxis": "x",
         "y": {
          "bdata": "ZmZmZmZmX0AAAAAAAKBfQAAAAAAA4F9AMzMzMzPzX0BmZmZmZgZgQM3MzMzMDGBAMzMzMzMTYEBmZmZmZhZgQGZmZmZmFmBAmpmZmZkZYEAAAAAAACBgQM3MzMzMLGBAMzMzMzMzYEAzMzMzM0NgQM3MzMzMTGBAZmZmZmZWYECamZmZmVlgQDMzMzMzY2BA",
          "dtype": "f8"
         },
         "yaxis": "y"
        },
        {
         "hovertemplate": "CPI_Type=Financial Services<br>Date=%{x}<br>CPI_Value=%{y}<extra></extra>",
         "legendgroup": "Financial Services",
         "line": {
          "color": "#EF553B",
          "dash": "solid"
         },
         "marker": {
          "symbol": "circle"
         },
         "mode": "lines",
         "name": "Financial Services",
         "orientation": "v",
         "showlegend": true,
         "type": "scatter",
         "x": [
          "2024-01-01T00:00:00.000000000",
          "2024-02-01T00:00:00.000000000",
          "2024-03-01T00:00:00.000000000",
          "2024-04-01T00:00:00.000000000",
          "2024-05-01T00:00:00.000000000",
          "2024-06-01T00:00:00.000000000",
          "2024-07-01T00:00:00.000000000",
          "2024-08-01T00:00:00.000000000",
          "2024-09-01T00:00:00.000000000",
          "2024-10-01T00:00:00.000000000",
          "2024-11-01T00:00:00.000000000",
          "2024-12-01T00:00:00.000000000",
          "2025-01-01T00:00:00.000000000",
          "2025-02-01T00:00:00.000000000",
          "2025-03-01T00:00:00.000000000",
          "2025-04-01T00:00:00.000000000",
          "2025-05-01T00:00:00.000000000",
          "2025-06-01T00:00:00.000000000"
         ],
         "xaxis": "x",
         "y": {
          "bdata": "zczMzMzMYUDNzMzMzMxhQM3MzMzMzGFAzczMzMzMYUDNzMzMzMxhQM3MzMzMzGFAzczMzMzMYUDNzMzMzMxhQM3MzMzMzGFAzczMzMzMYUDNzMzMzMxhQM3MzMzMzGFAzczMzMzMYUDNzMzMzMxhQM3MzMzMzGFAzczMzMzMYUDNzMzMzMxhQM3MzMzMzGFA",
          "dtype": "f8"
         },
         "yaxis": "y"
        },
        {
         "hovertemplate": "CPI_Type=Personal Care, and Miscellaneous Goods and Services<br>Date=%{x}<br>CPI_Value=%{y}<extra></extra>",
         "legendgroup": "Personal Care, and Miscellaneous Goods and Services",
         "line": {
          "color": "#00cc96",
          "dash": "solid"
         },
         "marker": {
          "symbol": "circle"
         },
         "mode": "lines",
         "name": "Personal Care, and Miscellaneous Goods and Services",
         "orientation": "v",
         "showlegend": true,
         "type": "scatter",
         "x": [
          "2024-01-01T00:00:00.000000000",
          "2024-02-01T00:00:00.000000000",
          "2024-03-01T00:00:00.000000000",
          "2024-04-01T00:00:00.000000000",
          "2024-05-01T00:00:00.000000000",
          "2024-06-01T00:00:00.000000000",
          "2024-07-01T00:00:00.000000000",
          "2024-08-01T00:00:00.000000000",
          "2024-09-01T00:00:00.000000000",
          "2024-10-01T00:00:00.000000000",
          "2024-11-01T00:00:00.000000000",
          "2024-12-01T00:00:00.000000000",
          "2025-01-01T00:00:00.000000000",
          "2025-02-01T00:00:00.000000000",
          "2025-03-01T00:00:00.000000000",
          "2025-04-01T00:00:00.000000000",
          "2025-05-01T00:00:00.000000000",
          "2025-06-01T00:00:00.000000000"
         ],
         "xaxis": "x",
         "y": {
          "bdata": "mpmZmZmZXUAAAAAAAMBdQDMzMzMz011AZmZmZmbmXUAzMzMzM/NdQAAAAAAAAF5AMzMzMzMTXkAAAAAAACBeQM3MzMzMLF5AmpmZmZk5XkDNzMzMzExeQAAAAAAAYF5AzczMzMxsXkBmZmZmZoZeQJqZmZmZmV5AZmZmZmamXkAzMzMzM7NeQJqZmZmZuV5A",
          "dtype": "f8"
         },
         "yaxis": "y"
        }
       ],
       "layout": {
        "legend": {
         "title": {
          "text": "CPI_Type"
         },
         "tracegroupgap": 0
        },
        "template": {
         "data": {
          "bar": [
           {
            "error_x": {
             "color": "#2a3f5f"
            },
            "error_y": {
             "color": "#2a3f5f"
            },
            "marker": {
             "line": {
              "color": "white",
              "width": 0.5
             },
             "pattern": {
              "fillmode": "overlay",
              "size": 10,
              "solidity": 0.2
             }
            },
            "type": "bar"
           }
          ],
          "barpolar": [
           {
            "marker": {
             "line": {
              "color": "white",
              "width": 0.5
             },
             "pattern": {
              "fillmode": "overlay",
              "size": 10,
              "solidity": 0.2
             }
            },
            "type": "barpolar"
           }
          ],
          "carpet": [
           {
            "aaxis": {
             "endlinecolor": "#2a3f5f",
             "gridcolor": "#C8D4E3",
             "linecolor": "#C8D4E3",
             "minorgridcolor": "#C8D4E3",
             "startlinecolor": "#2a3f5f"
            },
            "baxis": {
             "endlinecolor": "#2a3f5f",
             "gridcolor": "#C8D4E3",
             "linecolor": "#C8D4E3",
             "minorgridcolor": "#C8D4E3",
             "startlinecolor": "#2a3f5f"
            },
            "type": "carpet"
           }
          ],
          "choropleth": [
           {
            "colorbar": {
             "outlinewidth": 0,
             "ticks": ""
            },
            "type": "choropleth"
           }
          ],
          "contour": [
           {
            "colorbar": {
             "outlinewidth": 0,
             "ticks": ""
            },
            "colorscale": [
             [
              0,
              "#0d0887"
             ],
             [
              0.1111111111111111,
              "#46039f"
             ],
             [
              0.2222222222222222,
              "#7201a8"
             ],
             [
              0.3333333333333333,
              "#9c179e"
             ],
             [
              0.4444444444444444,
              "#bd3786"
             ],
             [
              0.5555555555555556,
              "#d8576b"
             ],
             [
              0.6666666666666666,
              "#ed7953"
             ],
             [
              0.7777777777777778,
              "#fb9f3a"
             ],
             [
              0.8888888888888888,
              "#fdca26"
             ],
             [
              1,
              "#f0f921"
             ]
            ],
            "type": "contour"
           }
          ],
          "contourcarpet": [
           {
            "colorbar": {
             "outlinewidth": 0,
             "ticks": ""
            },
            "type": "contourcarpet"
           }
          ],
          "heatmap": [
           {
            "colorbar": {
             "outlinewidth": 0,
             "ticks": ""
            },
            "colorscale": [
             [
              0,
              "#0d0887"
             ],
             [
              0.1111111111111111,
              "#46039f"
             ],
             [
              0.2222222222222222,
              "#7201a8"
             ],
             [
              0.3333333333333333,
              "#9c179e"
             ],
             [
              0.4444444444444444,
              "#bd3786"
             ],
             [
              0.5555555555555556,
              "#d8576b"
             ],
             [
              0.6666666666666666,
              "#ed7953"
             ],
             [
              0.7777777777777778,
              "#fb9f3a"
             ],
             [
              0.8888888888888888,
              "#fdca26"
             ],
             [
              1,
              "#f0f921"
             ]
            ],
            "type": "heatmap"
           }
          ],
          "histogram": [
           {
            "marker": {
             "pattern": {
              "fillmode": "overlay",
              "size": 10,
              "solidity": 0.2
             }
            },
            "type": "histogram"
           }
          ],
          "histogram2d": [
           {
            "colorbar": {
             "outlinewidth": 0,
             "ticks": ""
            },
            "colorscale": [
             [
              0,
              "#0d0887"
             ],
             [
              0.1111111111111111,
              "#46039f"
             ],
             [
              0.2222222222222222,
              "#7201a8"
             ],
             [
              0.3333333333333333,
              "#9c179e"
             ],
             [
              0.4444444444444444,
              "#bd3786"
             ],
             [
              0.5555555555555556,
              "#d8576b"
             ],
             [
              0.6666666666666666,
              "#ed7953"
             ],
             [
              0.7777777777777778,
              "#fb9f3a"
             ],
             [
              0.8888888888888888,
              "#fdca26"
             ],
             [
              1,
              "#f0f921"
             ]
            ],
            "type": "histogram2d"
           }
          ],
          "histogram2dcontour": [
           {
            "colorbar": {
             "outlinewidth": 0,
             "ticks": ""
            },
            "colorscale": [
             [
              0,
              "#0d0887"
             ],
             [
              0.1111111111111111,
              "#46039f"
             ],
             [
              0.2222222222222222,
              "#7201a8"
             ],
             [
              0.3333333333333333,
              "#9c179e"
             ],
             [
              0.4444444444444444,
              "#bd3786"
             ],
             [
              0.5555555555555556,
              "#d8576b"
             ],
             [
              0.6666666666666666,
              "#ed7953"
             ],
             [
              0.7777777777777778,
              "#fb9f3a"
             ],
             [
              0.8888888888888888,
              "#fdca26"
             ],
             [
              1,
              "#f0f921"
             ]
            ],
            "type": "histogram2dcontour"
           }
          ],
          "mesh3d": [
           {
            "colorbar": {
             "outlinewidth": 0,
             "ticks": ""
            },
            "type": "mesh3d"
           }
          ],
          "parcoords": [
           {
            "line": {
             "colorbar": {
              "outlinewidth": 0,
              "ticks": ""
             }
            },
            "type": "parcoords"
           }
          ],
          "pie": [
           {
            "automargin": true,
            "type": "pie"
           }
          ],
          "scatter": [
           {
            "fillpattern": {
             "fillmode": "overlay",
             "size": 10,
             "solidity": 0.2
            },
            "type": "scatter"
           }
          ],
          "scatter3d": [
           {
            "line": {
             "colorbar": {
              "outlinewidth": 0,
              "ticks": ""
             }
            },
            "marker": {
             "colorbar": {
              "outlinewidth": 0,
              "ticks": ""
             }
            },
            "type": "scatter3d"
           }
          ],
          "scattercarpet": [
           {
            "marker": {
             "colorbar": {
              "outlinewidth": 0,
              "ticks": ""
             }
            },
            "type": "scattercarpet"
           }
          ],
          "scattergeo": [
           {
            "marker": {
             "colorbar": {
              "outlinewidth": 0,
              "ticks": ""
             }
            },
            "type": "scattergeo"
           }
          ],
          "scattergl": [
           {
            "marker": {
             "colorbar": {
              "outlinewidth": 0,
              "ticks": ""
             }
            },
            "type": "scattergl"
           }
          ],
          "scattermap": [
           {
            "marker": {
             "colorbar": {
              "outlinewidth": 0,
              "ticks": ""
             }
            },
            "type": "scattermap"
           }
          ],
          "scattermapbox": [
           {
            "marker": {
             "colorbar": {
              "outlinewidth": 0,
              "ticks": ""
             }
            },
            "type": "scattermapbox"
           }
          ],
          "scatterpolar": [
           {
            "marker": {
             "colorbar": {
              "outlinewidth": 0,
              "ticks": ""
             }
            },
            "type": "scatterpolar"
           }
          ],
          "scatterpolargl": [
           {
            "marker": {
             "colorbar": {
              "outlinewidth": 0,
              "ticks": ""
             }
            },
            "type": "scatterpolargl"
           }
          ],
          "scatterternary": [
           {
            "marker": {
             "colorbar": {
              "outlinewidth": 0,
              "ticks": ""
             }
            },
            "type": "scatterternary"
           }
          ],
          "surface": [
           {
            "colorbar": {
             "outlinewidth": 0,
             "ticks": ""
            },
            "colorscale": [
             [
              0,
              "#0d0887"
             ],
             [
              0.1111111111111111,
              "#46039f"
             ],
             [
              0.2222222222222222,
              "#7201a8"
             ],
             [
              0.3333333333333333,
              "#9c179e"
             ],
             [
              0.4444444444444444,
              "#bd3786"
             ],
             [
              0.5555555555555556,
              "#d8576b"
             ],
             [
              0.6666666666666666,
              "#ed7953"
             ],
             [
              0.7777777777777778,
              "#fb9f3a"
             ],
             [
              0.8888888888888888,
              "#fdca26"
             ],
             [
              1,
              "#f0f921"
             ]
            ],
            "type": "surface"
           }
          ],
          "table": [
           {
            "cells": {
             "fill": {
              "color": "#EBF0F8"
             },
             "line": {
              "color": "white"
             }
            },
            "header": {
             "fill": {
              "color": "#C8D4E3"
             },
             "line": {
              "color": "white"
             }
            },
            "type": "table"
           }
          ]
         },
         "layout": {
          "annotationdefaults": {
           "arrowcolor": "#2a3f5f",
           "arrowhead": 0,
           "arrowwidth": 1
          },
          "autotypenumbers": "strict",
          "coloraxis": {
           "colorbar": {
            "outlinewidth": 0,
            "ticks": ""
           }
          },
          "colorscale": {
           "diverging": [
            [
             0,
             "#8e0152"
            ],
            [
             0.1,
             "#c51b7d"
            ],
            [
             0.2,
             "#de77ae"
            ],
            [
             0.3,
             "#f1b6da"
            ],
            [
             0.4,
             "#fde0ef"
            ],
            [
             0.5,
             "#f7f7f7"
            ],
            [
             0.6,
             "#e6f5d0"
            ],
            [
             0.7,
             "#b8e186"
            ],
            [
             0.8,
             "#7fbc41"
            ],
            [
             0.9,
             "#4d9221"
            ],
            [
             1,
             "#276419"
            ]
           ],
           "sequential": [
            [
             0,
             "#0d0887"
            ],
            [
             0.1111111111111111,
             "#46039f"
            ],
            [
             0.2222222222222222,
             "#7201a8"
            ],
            [
             0.3333333333333333,
             "#9c179e"
            ],
            [
             0.4444444444444444,
             "#bd3786"
            ],
            [
             0.5555555555555556,
             "#d8576b"
            ],
            [
             0.6666666666666666,
             "#ed7953"
            ],
            [
             0.7777777777777778,
             "#fb9f3a"
            ],
            [
             0.8888888888888888,
             "#fdca26"
            ],
            [
             1,
             "#f0f921"
            ]
           ],
           "sequentialminus": [
            [
             0,
             "#0d0887"
            ],
            [
             0.1111111111111111,
             "#46039f"
            ],
            [
             0.2222222222222222,
             "#7201a8"
            ],
            [
             0.3333333333333333,
             "#9c179e"
            ],
            [
             0.4444444444444444,
             "#bd3786"
            ],
            [
             0.5555555555555556,
             "#d8576b"
            ],
            [
             0.6666666666666666,
             "#ed7953"
            ],
            [
             0.7777777777777778,
             "#fb9f3a"
            ],
            [
             0.8888888888888888,
             "#fdca26"
            ],
            [
             1,
             "#f0f921"
            ]
           ]
          },
          "colorway": [
           "#636efa",
           "#EF553B",
           "#00cc96",
           "#ab63fa",
           "#FFA15A",
           "#19d3f3",
           "#FF6692",
           "#B6E880",
           "#FF97FF",
           "#FECB52"
          ],
          "font": {
           "color": "#2a3f5f"
          },
          "geo": {
           "bgcolor": "white",
           "lakecolor": "white",
           "landcolor": "white",
           "showlakes": true,
           "showland": true,
           "subunitcolor": "#C8D4E3"
          },
          "hoverlabel": {
           "align": "left"
          },
          "hovermode": "closest",
          "mapbox": {
           "style": "light"
          },
          "paper_bgcolor": "white",
          "plot_bgcolor": "white",
          "polar": {
           "angularaxis": {
            "gridcolor": "#EBF0F8",
            "linecolor": "#EBF0F8",
            "ticks": ""
           },
           "bgcolor": "white",
           "radialaxis": {
            "gridcolor": "#EBF0F8",
            "linecolor": "#EBF0F8",
            "ticks": ""
           }
          },
          "scene": {
           "xaxis": {
            "backgroundcolor": "white",
            "gridcolor": "#DFE8F3",
            "gridwidth": 2,
            "linecolor": "#EBF0F8",
            "showbackground": true,
            "ticks": "",
            "zerolinecolor": "#EBF0F8"
           },
           "yaxis": {
            "backgroundcolor": "white",
            "gridcolor": "#DFE8F3",
            "gridwidth": 2,
            "linecolor": "#EBF0F8",
            "showbackground": true,
            "ticks": "",
            "zerolinecolor": "#EBF0F8"
           },
           "zaxis": {
            "backgroundcolor": "white",
            "gridcolor": "#DFE8F3",
            "gridwidth": 2,
            "linecolor": "#EBF0F8",
            "showbackground": true,
            "ticks": "",
            "zerolinecolor": "#EBF0F8"
           }
          },
          "shapedefaults": {
           "line": {
            "color": "#2a3f5f"
           }
          },
          "ternary": {
           "aaxis": {
            "gridcolor": "#DFE8F3",
            "linecolor": "#A2B1C6",
            "ticks": ""
           },
           "baxis": {
            "gridcolor": "#DFE8F3",
            "linecolor": "#A2B1C6",
            "ticks": ""
           },
           "bgcolor": "white",
           "caxis": {
            "gridcolor": "#DFE8F3",
            "linecolor": "#A2B1C6",
            "ticks": ""
           }
          },
          "title": {
           "x": 0.05
          },
          "xaxis": {
           "automargin": true,
           "gridcolor": "#EBF0F8",
           "linecolor": "#EBF0F8",
           "ticks": "",
           "title": {
            "standoff": 15
           },
           "zerolinecolor": "#EBF0F8",
           "zerolinewidth": 2
          },
          "yaxis": {
           "automargin": true,
           "gridcolor": "#EBF0F8",
           "linecolor": "#EBF0F8",
           "ticks": "",
           "title": {
            "standoff": 15
           },
           "zerolinecolor": "#EBF0F8",
           "zerolinewidth": 2
          }
         }
        },
        "title": {
         "text": "CPI Values by Month and Type"
        },
        "xaxis": {
         "anchor": "y",
         "domain": [
          0,
          1
         ],
         "title": {
          "text": "Date"
         }
        },
        "yaxis": {
         "anchor": "x",
         "domain": [
          0,
          1
         ],
         "title": {
          "text": "CPI_Value"
         }
        }
       }
      }
     },
     "metadata": {},
     "output_type": "display_data"
    }
   ],
   "source": [
    "fig = px.line(\n",
    "    data_frame=melt_df,\n",
    "    x='Date',\n",
    "    y='CPI_Value',\n",
    "    color='CPI_Type',\n",
    "    title='CPI Values by Month and Type',\n",
    "    template='plotly_white'\n",
    ")\n",
    "fig.show()"
   ]
  },
  {
   "cell_type": "code",
   "execution_count": null,
   "id": "245f8b95",
   "metadata": {},
   "outputs": [],
   "source": []
  }
 ],
 "metadata": {
  "kernelspec": {
   "display_name": "Python 3",
   "language": "python",
   "name": "python3"
  },
  "language_info": {
   "codemirror_mode": {
    "name": "ipython",
    "version": 3
   },
   "file_extension": ".py",
   "mimetype": "text/x-python",
   "name": "python",
   "nbconvert_exporter": "python",
   "pygments_lexer": "ipython3",
   "version": "3.12.4"
  }
 },
 "nbformat": 4,
 "nbformat_minor": 5
}
